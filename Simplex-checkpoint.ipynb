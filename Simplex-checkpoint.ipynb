{
 "cells": [
  {
   "cell_type": "markdown",
   "id": "dfc11b82",
   "metadata": {},
   "source": [
    "# <font color = 'gray'> Método Simplex </font>"
   ]
  },
  {
   "cell_type": "code",
   "execution_count": 1,
   "id": "26c8a9ce",
   "metadata": {},
   "outputs": [
    {
     "name": "stdout",
     "output_type": "stream",
     "text": [
      "    x1     x2    x3       Z\n",
      "0  0.0  300.0  75.0  341.25\n"
     ]
    }
   ],
   "source": [
    "import numpy as np\n",
    "import pandas as pd\n",
    "from scipy.optimize import linprog\n",
    "\n",
    "\n",
    "c = [-1,-0.9,-0.95]\n",
    "\n",
    "\n",
    "A = [[0.45,0.5,0.4],[0.5,0.4,0.4],[0.10,0.15,0.2]]\n",
    "b = [200,150,60]\n",
    "\n",
    "\n",
    "Aeq = None\n",
    "beq = None\n",
    "\n",
    "\n",
    "bounds = [(0, None)]*3\n",
    "\n",
    "\n",
    "res = linprog(c, A_ub = A, b_ub= b, A_eq = Aeq, b_eq = beq, bounds = bounds, method = 'highs')\n",
    "\n",
    "\n",
    "df = pd.DataFrame({'x1': [res.x[0]], 'x2': [res.x[1]],'x3':[res.x[2]], 'Z': [-res.fun]})\n",
    "print(df)"
   ]
  },
  {
   "cell_type": "code",
   "execution_count": 2,
   "id": "acd26d86",
   "metadata": {},
   "outputs": [
    {
     "name": "stdout",
     "output_type": "stream",
     "text": [
      "        x1       x2        Z\n",
      "0  85000.0  75000.0  38750.0\n"
     ]
    }
   ],
   "source": [
    "c = [-0.35,-0.12]\n",
    "\n",
    "\n",
    "A = [[1,0],[0,1],[1,1],[0.2,0.4]]\n",
    "b = [85000,100000,160000,70000]\n",
    "\n",
    "\n",
    "Aeq = None\n",
    "beq = None\n",
    "\n",
    "\n",
    "bounds = [(0, None)]*2\n",
    "\n",
    "\n",
    "res = linprog(c, A_ub = A, b_ub= b, A_eq = Aeq, b_eq = beq, bounds = bounds, method = 'highs')\n",
    "\n",
    "\n",
    "df = pd.DataFrame({'x1': [res.x[0]], 'x2': [res.x[1]], 'Z': [-res.fun]})\n",
    "print(df)\n"
   ]
  },
  {
   "cell_type": "code",
   "execution_count": 3,
   "id": "2d3c3f56",
   "metadata": {},
   "outputs": [
    {
     "name": "stdout",
     "output_type": "stream",
     "text": [
      "    x1   x2   x3    Z\n",
      "0  4.0  4.0  2.0  0.7\n"
     ]
    }
   ],
   "source": [
    "c = [0.1,0.03,0.09]\n",
    "\n",
    "\n",
    "A = [[-1,-1,-1],[1,1,1],[1,0,-2]]\n",
    "b = [-10,15,0]\n",
    "\n",
    "\n",
    "Aeq = [[1,-1,0]]\n",
    "beq = [0]\n",
    "\n",
    "\n",
    "bounds = [(0, None)]*3\n",
    "\n",
    "\n",
    "res = linprog(c, A_ub = A, b_ub= b, A_eq = Aeq, b_eq = beq, bounds = bounds, method = 'highs')\n",
    "\n",
    "\n",
    "df = pd.DataFrame({'x1': [res.x[0]], 'x2': [res.x[1]],'x3':[res.x[2]], 'Z': [res.fun]})\n",
    "print(df)"
   ]
  },
  {
   "cell_type": "code",
   "execution_count": 4,
   "id": "90f509d5",
   "metadata": {},
   "outputs": [
    {
     "name": "stdout",
     "output_type": "stream",
     "text": [
      "    x1   x2      Z\n",
      "0  0.0  2.5  150.0\n"
     ]
    }
   ],
   "source": [
    "c = [-70,-60]\n",
    "\n",
    "\n",
    "A = [[5,4],[2,5]]\n",
    "b = [10,16]\n",
    "\n",
    "\n",
    "Aeq = None\n",
    "beq = None\n",
    "\n",
    "\n",
    "bounds = [(0, None)]*2\n",
    "\n",
    "\n",
    "res = linprog(c, A_ub = A, b_ub= b, A_eq = Aeq, b_eq = beq, bounds = bounds, method = 'highs')\n",
    "\n",
    "\n",
    "df = pd.DataFrame({'x1': [res.x[0]], 'x2': [res.x[1]], 'Z': [-res.fun]})\n",
    "print(df)"
   ]
  },
  {
   "cell_type": "code",
   "execution_count": 5,
   "id": "03cf7dd4",
   "metadata": {},
   "outputs": [
    {
     "name": "stdout",
     "output_type": "stream",
     "text": [
      "    x1   x2    x3      Z\n",
      "0  0.0  0.0  30.0  540.0\n"
     ]
    }
   ],
   "source": [
    "c = [-20,-22,-18]\n",
    "\n",
    "\n",
    "A = [[8,5,4],[5,4,2]]\n",
    "b = [120,200]\n",
    "\n",
    "\n",
    "Aeq = None\n",
    "beq = None\n",
    "\n",
    "\n",
    "bounds = [(0, None)]*3\n",
    "\n",
    "\n",
    "res = linprog(c, A_ub = A, b_ub= b, A_eq = Aeq, b_eq = beq, bounds = bounds, method = 'highs')\n",
    "\n",
    "\n",
    "df = pd.DataFrame({'x1': [res.x[0]], 'x2': [res.x[1]],'x3':[res.x[2]], 'Z': [-res.fun]})\n",
    "print(df)\n"
   ]
  },
  {
   "cell_type": "code",
   "execution_count": 6,
   "id": "6d71db03",
   "metadata": {},
   "outputs": [
    {
     "name": "stdout",
     "output_type": "stream",
     "text": [
      "    x1   x2      Z\n",
      "0  3.0  0.0  210.0\n"
     ]
    }
   ],
   "source": [
    "c = [-70,-60]\n",
    "\n",
    "\n",
    "A = [[-5,-4],[2,5]]\n",
    "b = [-10,6]\n",
    "\n",
    "\n",
    "Aeq = None\n",
    "beq = None\n",
    "\n",
    "\n",
    "bounds = [(0, None)]*2\n",
    "\n",
    "\n",
    "res = linprog(c, A_ub = A, b_ub= b, A_eq = Aeq, b_eq = beq, bounds = bounds, method = 'highs')\n",
    "\n",
    "\n",
    "df = pd.DataFrame({'x1': [res.x[0]], 'x2': [res.x[1]], 'Z': [-res.fun]})\n",
    "print(df)\n"
   ]
  },
  {
   "cell_type": "code",
   "execution_count": 7,
   "id": "5b28dfc1",
   "metadata": {},
   "outputs": [
    {
     "name": "stdout",
     "output_type": "stream",
     "text": [
      "    x1   x2     Z\n",
      "0  4.5  4.5  22.5\n"
     ]
    }
   ],
   "source": [
    "c = [-3,-2]\n",
    "\n",
    "\n",
    "A = [[3,2],[2,2],[1500,1000]]\n",
    "b = [70,18,80000]\n",
    "\n",
    "\n",
    "Aeq = [[1,-1]]\n",
    "beq = [0]\n",
    "\n",
    "\n",
    "bounds = [(0, None)]*2\n",
    "\n",
    "\n",
    "res = linprog(c, A_ub = A, b_ub= b, A_eq = Aeq, b_eq = beq, bounds = bounds, method = 'highs')\n",
    "\n",
    "\n",
    "df = pd.DataFrame({'x1': [res.x[0]], 'x2': [res.x[1]], 'Z': [-res.fun]})\n",
    "print(df)\n"
   ]
  },
  {
   "cell_type": "code",
   "execution_count": 8,
   "id": "19a32cdf",
   "metadata": {},
   "outputs": [
    {
     "name": "stdout",
     "output_type": "stream",
     "text": [
      "    x1   x2   x3     Z\n",
      "0  2.0  0.0  4.0  33.8\n"
     ]
    }
   ],
   "source": [
    "c = [5.9,5.2,5.5]\n",
    "\n",
    "\n",
    "A = [[1,1,1],[-300,-200,-350]]\n",
    "b = [8,-2000]\n",
    "\n",
    "\n",
    "Aeq = None\n",
    "beq = None\n",
    "\n",
    "\n",
    "bounds = [(0, 4)]*3\n",
    "\n",
    "\n",
    "res = linprog(c, A_ub = A, b_ub= b, A_eq = Aeq, b_eq = beq, bounds = bounds, method = 'highs')\n",
    "\n",
    "\n",
    "df = pd.DataFrame({'x1': [res.x[0]], 'x2': [res.x[1]],'x3':[res.x[2]], 'Z': [res.fun]})\n",
    "print(df)\n"
   ]
  },
  {
   "cell_type": "code",
   "execution_count": 9,
   "id": "e6cf3659",
   "metadata": {},
   "outputs": [
    {
     "name": "stdout",
     "output_type": "stream",
     "text": [
      "     x1    x2         x3    x4          Z\n",
      "0  30.0  15.0  66.903595  10.0  43.655109\n"
     ]
    }
   ],
   "source": [
    "c = [-0.4212,-0.3529,-0.3754,-0.0610]\n",
    "\n",
    "\n",
    "A = [[-1,0,0,0],[0,1,0,0],[0,0,0,1],[0.0769,0.0399,0.0612,0]]\n",
    "b = [-0.3,0.15,0.1,0.07]\n",
    "\n",
    "\n",
    "Aeq = None\n",
    "beq = None\n",
    "\n",
    "\n",
    "bounds = [(0, None)]*4\n",
    "\n",
    "\n",
    "res = linprog(c, A_ub = A, b_ub= b, A_eq = Aeq, b_eq = beq, bounds = bounds, method = 'highs')\n",
    "\n",
    "\n",
    "df = pd.DataFrame({'x1': [res.x[0]*100], 'x2': [res.x[1]*100],'x3':[res.x[2]*100],'x4':[res.x[3]*100], 'Z': [-res.fun*100]})\n",
    "print(df)\n"
   ]
  },
  {
   "cell_type": "code",
   "execution_count": 10,
   "id": "fff17ad9",
   "metadata": {},
   "outputs": [
    {
     "name": "stdout",
     "output_type": "stream",
     "text": [
      "         x1        x2        x3        x4        x5        x6           Z\n",
      "0  500000.0  600000.0  700000.0  500000.0  400000.0  450000.0  26850000.0\n"
     ]
    }
   ],
   "source": [
    "c = [-10,-7,-10,-7,-10,-7]\n",
    "\n",
    "\n",
    "A = [[1,0,0,0,0,0],[0,1,0,0,0,0],[0,0,1,0,0,0],[0,0,0,1,0,0],[0,0,0,0,1,0],[0,0,0,0,0,1]]\n",
    "b = [500000,600000,700000,500000,400000,450000]\n",
    "\n",
    "\n",
    "Aeq = None\n",
    "beq = None\n",
    "\n",
    "\n",
    "bounds = [(0, None)]*6\n",
    "\n",
    "\n",
    "res = linprog(c, A_ub = A, b_ub= b, A_eq = Aeq, b_eq = beq, bounds = bounds, method = 'highs')\n",
    "\n",
    "\n",
    "df = pd.DataFrame({'x1': [res.x[0]], 'x2': [res.x[1]],'x3':[res.x[2]],'x4':[res.x[3]],'x5':[res.x[4]],'x6':[res.x[5]], 'Z': [-res.fun]})\n",
    "print(df)"
   ]
  },
  {
   "cell_type": "code",
   "execution_count": null,
   "id": "c4f8567f",
   "metadata": {},
   "outputs": [],
   "source": []
  }
 ],
 "metadata": {
  "kernelspec": {
   "display_name": "Python 3 (ipykernel)",
   "language": "python",
   "name": "python3"
  },
  "language_info": {
   "codemirror_mode": {
    "name": "ipython",
    "version": 3
   },
   "file_extension": ".py",
   "mimetype": "text/x-python",
   "name": "python",
   "nbconvert_exporter": "python",
   "pygments_lexer": "ipython3",
   "version": "3.9.12"
  }
 },
 "nbformat": 4,
 "nbformat_minor": 5
}
